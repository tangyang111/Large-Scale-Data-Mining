{
 "cells": [
  {
   "cell_type": "code",
   "execution_count": 1,
   "metadata": {
    "collapsed": true
   },
   "outputs": [],
   "source": [
    "import math\n",
    "import matplotlib.pyplot as plt\n",
    "import numpy as np\n",
    "from sklearn import linear_model\n",
    "from numpy import genfromtxt\n",
    "import random\n",
    "import json\n",
    "from datetime import datetime , timedelta"
   ]
  },
  {
   "cell_type": "code",
   "execution_count": 2,
   "metadata": {
    "collapsed": true
   },
   "outputs": [],
   "source": [
    "hashs=['tweet_data/tweets_#gopatriots.txt','tweet_data/tweets_#gohawks.txt','tweet_data/tweets_#patriots.txt','tweet_data/tweets_#sb49.txt', 'tweet_data/tweets_#superbowl.txt', 'tweet_data/tweets_#nfl.txt']"
   ]
  },
  {
   "cell_type": "markdown",
   "metadata": {},
   "source": [
    "### calculate statistics"
   ]
  },
  {
   "cell_type": "code",
   "execution_count": null,
   "metadata": {},
   "outputs": [
    {
     "name": "stdout",
     "output_type": "stream",
     "text": [
      "tweet_data/tweets_#gopatriots.txt\n",
      "total tweets: 26232\n",
      "total time: 684.3972222222222\n",
      ":Average number of tweets per hour:38.328618451760065\n",
      ":total retweets:36727.0\n",
      ":Average number of retweets per tweet:1.4000838670326319\n",
      ":total_followers:23385331.0\n",
      ":Average number of followers per user:1298.8242710358234\n",
      "tweet_data/tweets_#gohawks.txt\n",
      "total tweets: 188136\n",
      "total time: 973.0538888888889\n",
      ":Average number of tweets per hour:193.3459206610117\n",
      ":total retweets:379022.0\n",
      ":Average number of retweets per tweet:2.014617085512608\n",
      ":total_followers:119222228.0\n",
      ":Average number of followers per user:1544.9697802197802\n"
     ]
    }
   ],
   "source": [
    "for files in hashs:  \n",
    "    fseconds=0\n",
    "    lseconds=0\n",
    "    tempi=0\n",
    "    followers=0\n",
    "    users=set()\n",
    "    #user_arr=[]\n",
    "    with open(files,'r') as ifile:\n",
    "        for line in ifile.readlines():\n",
    "            tweet = json.loads(line)\n",
    "            if tweet['tweet']['user']['id'] not in users:\n",
    "                users.add(tweet['tweet']['user']['id'])\n",
    "            #user_arr.append(tweet['tweet']['user']['id'])\n",
    "                followers=followers + tweet['author']['followers']\n",
    "            if tempi == 0:\n",
    "                fseconds=tweet['firstpost_date']\n",
    "                tempi=1\n",
    "            lseconds=tweet['firstpost_date']\n",
    "        ifile.close()\n",
    "    thours=((lseconds-fseconds)/3600)+0.00\n",
    "    totalusers=len(users)\n",
    "    with open(files,'r') as ifile:\n",
    "        counts = [0]*(int(thours)+1)\n",
    "        i=-1\n",
    "        retweets=0\n",
    "        \n",
    "        length=0\n",
    "        hcount=0\n",
    "        for line in ifile.readlines():\n",
    "             tweet = json.loads(line)\n",
    "             i=int((tweet['firstpost_date']-fseconds)/3600)\n",
    "             counts[i]=counts[i]+1\n",
    "             length=length+1\n",
    "             retweets=retweets + tweet['metrics']['citations']['total']\n",
    "             \n",
    "                 \n",
    "   #length = max(length,tweet['tweet']['retweet_count'])\n",
    "        xaxis = [0]*(int(thours)+1)\n",
    "        j=0\n",
    "        k=0\n",
    "        tsum=0\n",
    "        while j <=int(thours):\n",
    "            xaxis[j]=j\n",
    "            if counts[j] >0:\n",
    "                k=k+1\n",
    "                tsum=tsum+counts[j]\n",
    "            j=j+1\n",
    "        if (files == 'tweet_data/tweets_#superbowl.txt' or files == 'tweet_data/tweets_#nfl.txt'):\n",
    "            bar1 = plt.bar( xaxis,counts)\n",
    "            plt.show()\n",
    "\n",
    "        print (files)    \n",
    "        print (\"total tweets: \"+str(tsum))\n",
    "        print (\"total time: \"+str(thours+1))\n",
    "        #print \"total users: \"+ str(totalusers)\n",
    "        print (\":Average number of tweets per hour:\"+str((tsum+0.0)/(thours+1.0)))\n",
    "        print (\":total retweets:\"+str((retweets+0.0)))\n",
    "        print (\":Average number of retweets per tweet:\"+str((retweets+0.0)/(length+0.0)))\n",
    "        print (\":total_followers:\"+str(followers+0.0))\n",
    "        print (\":Average number of followers per user:\"+str((followers+0.0)/(totalusers+0.0)))\n",
    "        ifile.close()"
   ]
  },
  {
   "cell_type": "markdown",
   "metadata": {},
   "source": [
    "### plot"
   ]
  },
  {
   "cell_type": "code",
   "execution_count": 14,
   "metadata": {},
   "outputs": [
    {
     "name": "stdout",
     "output_type": "stream",
     "text": [
      "[1, 0, 0, 0, 1, 0, 0, 0, 0, 0, 0, 0, 0, 0, 0, 0, 0, 0, 0, 0, 0, 0, 0, 0, 0, 0, 0, 0, 0, 0, 0, 0, 0, 0, 0, 0, 0, 0, 0, 0, 0, 0, 0, 0, 0, 0, 0, 0, 0, 0, 0, 0, 0, 0, 0, 0, 0, 0, 0, 0, 0, 0, 0, 0, 0, 0, 0, 0, 0, 0, 0, 0, 0, 0, 0, 0, 0, 0, 0, 0, 0, 0, 0, 0, 0, 0, 0, 0, 0, 0, 0, 0, 0, 0, 0, 0, 0, 0, 0, 0, 0, 0, 0, 0, 0, 0, 0, 0, 0, 0, 0, 0, 0, 0, 0, 0, 0, 0, 0, 0, 0, 0, 0, 0, 0, 0, 0, 0, 0, 0, 0, 0, 1, 0, 0, 1, 0, 0, 0, 0, 0, 0, 0, 0, 0, 0, 0, 0, 0, 0, 0, 0, 0, 0, 0, 0, 0, 0, 0, 0, 0, 0, 0, 0, 0, 0, 0, 0, 0, 0, 0, 0, 0, 0, 0, 0, 0, 0, 0, 0, 0, 0, 0, 0, 0, 0, 0, 0, 0, 0, 0, 0, 0, 0, 0, 0, 0, 0, 0, 0, 0, 0, 0, 0, 0, 0, 0, 0, 0, 0, 0, 0, 0, 0, 0, 0, 0, 0, 0, 0, 1, 0, 0, 0, 0, 0, 0, 0, 0, 0, 0, 0, 0, 0, 0, 0, 0, 0, 0, 0, 0, 0, 0, 0, 0, 0, 0, 0, 0, 0, 0, 0, 0, 0, 0, 0, 0, 0, 0, 0, 0, 0, 0, 0, 0, 0, 0, 0, 0, 0, 0, 0, 0, 0, 0, 0, 0, 0, 0, 0, 0, 0, 0, 0, 0, 0, 0, 0, 0, 0, 0, 0, 0, 1, 0, 0, 0, 0, 0, 0, 0, 0, 0, 0, 0, 0, 0, 0, 0, 0, 0, 0, 0, 0, 1, 0, 0, 0, 0, 1, 0, 0, 1, 1, 0, 0, 0, 0, 0, 0, 0, 0, 0, 1, 1, 1, 0, 0, 1, 0, 1, 1, 0, 0, 0, 0, 0, 0, 0, 0, 0, 0, 0, 0, 0, 0, 0, 0, 0, 0, 3, 1, 0, 1, 0, 1, 1, 2, 1, 1, 0, 1, 1, 0, 0, 0, 5, 6, 11, 9, 14, 15, 13, 20, 31, 71, 61, 66, 52, 64, 49, 49, 37, 22, 19, 27, 35, 27, 14, 22, 9, 9, 14, 11, 20, 21, 15, 40, 54, 59, 64, 32, 57, 63, 63, 54, 43, 40, 23, 25, 27, 23, 19, 34, 8, 9, 1, 2, 8, 18, 22, 50, 89, 94, 73, 84, 110, 118, 80, 74, 59, 50, 43, 49, 33, 31, 38, 20, 11, 6, 6, 9, 6, 14, 19, 23, 37, 52, 45, 62, 53, 60, 52, 42, 43, 34, 61, 44, 47, 45, 49, 27, 25, 26, 56, 1, 4, 34, 53, 130, 146, 225, 235, 293, 763, 513, 403, 1129, 11667, 1180, 3275, 9314, 2720, 1165, 749, 478, 399, 325, 284, 260, 601, 825, 382, 544, 495, 410, 355, 341, 425, 370, 324, 273, 288, 1395, 2391, 6258, 155, 135, 118, 87, 58, 42, 60, 42, 80, 72, 80, 131, 203, 235, 220, 202, 108, 25, 72, 241, 188, 155, 182, 139, 219, 360, 205, 122, 86, 58, 44, 57, 104, 138, 130, 142, 180, 180, 215, 283, 238, 193, 198, 186, 281, 248, 251, 228, 185, 125, 110, 79, 59, 34, 36, 36, 63, 72, 101, 228, 265, 396, 289, 219, 140, 73, 23, 27, 34, 442, 236, 250, 226, 220, 148, 92, 62, 71, 53, 73, 103, 93, 224, 220, 471, 336, 239, 370, 335, 342, 303, 226, 224, 235, 197, 162, 162, 126, 90, 56, 65, 51, 32, 36, 43, 57, 132, 139, 183, 190, 351, 219, 379, 434, 273, 274, 177, 170, 157, 206, 128, 154, 104, 68, 64, 42, 37, 42, 62, 62, 115, 140, 292, 337, 311, 374, 365, 330, 307, 342, 235, 296, 309, 324, 237, 252, 124, 97, 83, 58, 67, 71, 134, 164, 255, 299, 505, 543, 416, 480, 515, 125, 508, 543, 359, 1693, 1744, 486, 447, 375, 193, 135, 117, 74, 75, 111, 153, 230, 307, 428, 554, 701, 930, 957, 1081, 742, 729, 744, 553, 490, 512, 460, 516, 470, 278, 217, 160, 116, 111, 157, 270, 327, 76, 495, 780, 806, 998, 835, 876, 758, 805, 903, 685, 670, 551, 487, 319, 19, 21, 18, 103, 291, 346, 376, 435, 609, 854, 1212, 1457, 1723, 1811, 1454, 1042, 1034, 1164, 1166, 1107, 1641, 805, 837, 992, 74, 463, 468, 492, 334, 401, 538, 848, 352, 343, 1518, 2654, 2582, 1804, 3598, 3671, 3430, 2788, 1725, 1612, 240, 346, 378, 235, 288, 232, 175, 161, 116, 181, 168, 173, 327, 374, 632, 681, 818, 897, 807, 838, 996, 905, 922, 1285, 2829, 2345, 1923, 1155, 1779, 1730, 1331, 981, 1133, 1476, 1512, 1789, 2964, 4902, 6870, 9030, 3675, 11167, 10231, 12166, 14135, 17203, 101546, 199125, 280452, 159989, 184612, 29901, 3841, 2843, 2187, 1387, 1078, 965, 963, 1338, 1488, 1593, 2050, 1397, 1836, 1855, 3070, 5066, 4292, 3967, 3742, 3357, 2928, 2441, 2257, 2035, 1471, 1189, 804, 906, 853, 723, 799, 794, 831, 1137, 1150, 1301, 1733, 1423, 1311, 1381, 1156, 1040, 684, 726, 706, 561, 369, 324, 592, 682, 293, 347, 272, 592, 302, 366, 432, 501, 542, 668, 616, 576, 706, 548, 400, 504, 387, 412, 333, 359, 270, 301, 269, 233, 198, 197, 168, 136, 132, 191, 186, 246, 256, 313, 317, 382, 345, 393, 484, 281, 255, 277, 252, 237, 167, 164, 214, 169, 68, 131, 129, 136, 170, 144, 150, 108, 332, 362, 359, 313, 331, 436, 324, 344, 277, 223, 244, 565, 234, 201, 259, 144, 122, 79, 3, 2, 0, 2, 0, 2, 3, 2, 2, 4]\n",
      "[ 6.85640884]\n"
     ]
    }
   ],
   "source": [
    "import urllib\n",
    "import httplib\n",
    "import json\n",
    "import numpy as np\n",
    "from statsmodels.formula.api import ols\n",
    "import statsmodels.api as sm\n",
    "from datetime import datetime , timedelta\n",
    "\n",
    "import pylab as plt\n",
    "from pandas import *\n",
    "\n",
    "# -*- coding: utf-8 -*-\n",
    "# getting max number of retweets\n",
    "\n",
    "\n",
    "\n",
    "#hashs=['tweets_#superbowl.txt','tweets_#sb49.txt','tweets_#patriots.txt','tweets_#nfl.txt','tweets_#gopatriots.txt','tweets_#gohawks.txt']\n",
    "hashs=['tweet_data/tweets_#superbowl.txt']\n",
    "\n",
    "for files in hashs: \n",
    "    fseconds=0\n",
    "    lseconds=0\n",
    "    tempi=0\n",
    "    #users=set()\n",
    "    users_arr = []\n",
    "    with open(files,'r') as ifile:\n",
    "        for line in ifile.readlines():\n",
    "            tweet = json.loads(line)\n",
    "            #if tweet['tweet']['user']['id'] not in users:\n",
    "                #users.add(tweet['tweet']['user']['id'])\n",
    "            users_arr.append(tweet['tweet']['user']['id'])\n",
    "            if tempi == 0:\n",
    "                fseconds=tweet['firstpost_date']\n",
    "                tempi=1\n",
    "            lseconds=tweet['firstpost_date']\n",
    "        ifile.close()\n",
    "    thours=((lseconds-fseconds)/3600)\n",
    "    totalusers=len(users_arr)\n",
    "    \n",
    "    with open(files,'r') as ifile:\n",
    "        counts = [0]*(thours+1)\n",
    "        i=-1\n",
    "        retweets= [0]*(thours+1)\n",
    "        followers= [0]*(thours+1)\n",
    "        length=0\n",
    "        tmax= [0]*(thours+1)\n",
    "        #users=set()\n",
    "        users_arr = []  \n",
    "        for line in ifile.readlines():\n",
    "             tweet = json.loads(line)\n",
    "             i=((tweet['firstpost_date']-fseconds)/3600)\n",
    "             counts[i]=counts[i]+1\n",
    "             length=length+1\n",
    "             retweets[i]=retweets[i] + tweet['metrics']['citations']['total']\n",
    "             \n",
    "             #if(tweet['tweet']['user']['id'] not in users):\n",
    "             followers[i]=followers[i] + tweet['author']['followers']\n",
    "             #users.add(tweet['tweet']['user']['id'])\n",
    "             users_arr.append(tweet['tweet']['user']['id'])\n",
    "             tmax[i]=max(tmax[i],tweet['author']['followers'])\n",
    "             \n",
    "             \n",
    "       #length = max(length,tweet['tweet']['retweet_count'])\n",
    "        time=[0]*(thours+1)\n",
    "        results=[0]*(thours+1)\n",
    "        j=0\n",
    "        while j < thours:\n",
    "            time[j]=j%24\n",
    "            results[j]=counts[j+1]\n",
    "            j=j+1\n",
    "        results[thours]=counts[0]\n",
    "        # print counts\n",
    "        # print retweets\n",
    "        # print followers\n",
    "        # print tmax\n",
    "        # print time\n",
    "        # print results\n",
    "        dataset=np.array([counts,retweets,followers,tmax,time])\n",
    "        dataset=dataset.transpose()\n",
    "        Y = dataset[1:,0]\n",
    "        X = dataset[:-1, 0:5]\n",
    "        X_res = dataset[0,0:5]\n",
    "        #dta=DataFrame(dataset, columns=['counts', 'retweets','followers','tmax','time','results'])\n",
    "\n",
    "        #formula = 'results ~ counts + retweets + tmax + time + followers'\n",
    "        #res = sm.formula.ols(formula, dta).fit()\n",
    "        model = sm.OLS(Y,X)\n",
    "        fitting = model.fit()\n",
    "        result = fitting.predict(X_res)\n",
    "        print counts\n",
    "        print result\n",
    "        #print Y[1]\n",
    "        Linear_Regression_model1 = open('Linear_Regression_model1.txt', 'a')\n",
    "        predict_result = open('Linear_Regression_model2.txt', 'a')\n",
    "        print >>Linear_Regression_model1, files\n",
    "        print >>Linear_Regression_model1, fitting.summary()\n",
    "        print >>predict_result, result\n",
    "        Linear_Regression_model1.close()\n",
    "        predict_result.close()\n",
    "\n",
    "        # y=[]\n",
    "        # for i in range(len(counts)):\n",
    "        #     y.append(counts[i])\n",
    "        # Y = np.array(y)\n",
    "        # Y.rotate(-1)\n",
    "        # X = np.array([counts,retweets,followers,tmax,time])\n",
    "        # model = sm.OLS(Y,X)\n",
    "        # results = model.fit()\n",
    "        # Linear_Regression_model2 = open('Linear_Regression_model.txt2', 'a')\n",
    "        # print >>Linear_Regression_model2, files\n",
    "        # print >>Linear_Regression_model2, results.summary()\n",
    "        # Linear_Regression_model2.close()\n",
    "\n",
    "\n",
    "        ifile.close()"
   ]
  },
  {
   "cell_type": "code",
   "execution_count": 15,
   "metadata": {},
   "outputs": [
    {
     "ename": "ValueError",
     "evalue": "incompatible sizes: argument 'height' must be length 927 or scalar",
     "output_type": "error",
     "traceback": [
      "\u001b[0;31m---------------------------------------------------------------------------\u001b[0m",
      "\u001b[0;31mValueError\u001b[0m                                Traceback (most recent call last)",
      "\u001b[0;32m<ipython-input-15-a8cb9e39897e>\u001b[0m in \u001b[0;36m<module>\u001b[0;34m()\u001b[0m\n\u001b[0;32m----> 1\u001b[0;31m \u001b[0mbar1\u001b[0m \u001b[1;33m=\u001b[0m \u001b[0mplt\u001b[0m\u001b[1;33m.\u001b[0m\u001b[0mbar\u001b[0m\u001b[1;33m(\u001b[0m \u001b[0mxaxis\u001b[0m\u001b[1;33m,\u001b[0m\u001b[0mcounts\u001b[0m\u001b[1;33m)\u001b[0m\u001b[1;33m\u001b[0m\u001b[0m\n\u001b[0m\u001b[1;32m      2\u001b[0m \u001b[0mplt\u001b[0m\u001b[1;33m.\u001b[0m\u001b[0mshow\u001b[0m\u001b[1;33m(\u001b[0m\u001b[1;33m)\u001b[0m\u001b[1;33m\u001b[0m\u001b[0m\n",
      "\u001b[0;32mF:\\Anaconda\\lib\\site-packages\\matplotlib\\pyplot.pyc\u001b[0m in \u001b[0;36mbar\u001b[0;34m(left, height, width, bottom, hold, data, **kwargs)\u001b[0m\n\u001b[1;32m   2648\u001b[0m     \u001b[1;32mtry\u001b[0m\u001b[1;33m:\u001b[0m\u001b[1;33m\u001b[0m\u001b[0m\n\u001b[1;32m   2649\u001b[0m         ret = ax.bar(left, height, width=width, bottom=bottom, data=data,\n\u001b[0;32m-> 2650\u001b[0;31m                      **kwargs)\n\u001b[0m\u001b[1;32m   2651\u001b[0m     \u001b[1;32mfinally\u001b[0m\u001b[1;33m:\u001b[0m\u001b[1;33m\u001b[0m\u001b[0m\n\u001b[1;32m   2652\u001b[0m         \u001b[0max\u001b[0m\u001b[1;33m.\u001b[0m\u001b[0mhold\u001b[0m\u001b[1;33m(\u001b[0m\u001b[0mwashold\u001b[0m\u001b[1;33m)\u001b[0m\u001b[1;33m\u001b[0m\u001b[0m\n",
      "\u001b[0;32mF:\\Anaconda\\lib\\site-packages\\matplotlib\\__init__.pyc\u001b[0m in \u001b[0;36minner\u001b[0;34m(ax, *args, **kwargs)\u001b[0m\n\u001b[1;32m   1816\u001b[0m                     warnings.warn(msg % (label_namer, func.__name__),\n\u001b[1;32m   1817\u001b[0m                                   RuntimeWarning, stacklevel=2)\n\u001b[0;32m-> 1818\u001b[0;31m             \u001b[1;32mreturn\u001b[0m \u001b[0mfunc\u001b[0m\u001b[1;33m(\u001b[0m\u001b[0max\u001b[0m\u001b[1;33m,\u001b[0m \u001b[1;33m*\u001b[0m\u001b[0margs\u001b[0m\u001b[1;33m,\u001b[0m \u001b[1;33m**\u001b[0m\u001b[0mkwargs\u001b[0m\u001b[1;33m)\u001b[0m\u001b[1;33m\u001b[0m\u001b[0m\n\u001b[0m\u001b[1;32m   1819\u001b[0m         \u001b[0mpre_doc\u001b[0m \u001b[1;33m=\u001b[0m \u001b[0minner\u001b[0m\u001b[1;33m.\u001b[0m\u001b[0m__doc__\u001b[0m\u001b[1;33m\u001b[0m\u001b[0m\n\u001b[1;32m   1820\u001b[0m         \u001b[1;32mif\u001b[0m \u001b[0mpre_doc\u001b[0m \u001b[1;32mis\u001b[0m \u001b[0mNone\u001b[0m\u001b[1;33m:\u001b[0m\u001b[1;33m\u001b[0m\u001b[0m\n",
      "\u001b[0;32mF:\\Anaconda\\lib\\site-packages\\matplotlib\\axes\\_axes.pyc\u001b[0m in \u001b[0;36mbar\u001b[0;34m(self, left, height, width, bottom, **kwargs)\u001b[0m\n\u001b[1;32m   2036\u001b[0m         \u001b[1;32mif\u001b[0m \u001b[0mlen\u001b[0m\u001b[1;33m(\u001b[0m\u001b[0mheight\u001b[0m\u001b[1;33m)\u001b[0m \u001b[1;33m!=\u001b[0m \u001b[0mnbars\u001b[0m\u001b[1;33m:\u001b[0m\u001b[1;33m\u001b[0m\u001b[0m\n\u001b[1;32m   2037\u001b[0m             raise ValueError(\"incompatible sizes: argument 'height' \"\n\u001b[0;32m-> 2038\u001b[0;31m                               \"must be length %d or scalar\" % nbars)\n\u001b[0m\u001b[1;32m   2039\u001b[0m         \u001b[1;32mif\u001b[0m \u001b[0mlen\u001b[0m\u001b[1;33m(\u001b[0m\u001b[0mwidth\u001b[0m\u001b[1;33m)\u001b[0m \u001b[1;33m!=\u001b[0m \u001b[0mnbars\u001b[0m\u001b[1;33m:\u001b[0m\u001b[1;33m\u001b[0m\u001b[0m\n\u001b[1;32m   2040\u001b[0m             raise ValueError(\"incompatible sizes: argument 'width' \"\n",
      "\u001b[0;31mValueError\u001b[0m: incompatible sizes: argument 'height' must be length 927 or scalar"
     ]
    }
   ],
   "source": [
    "bar1 = plt.bar( xaxis,counts)\n",
    "plt.show()"
   ]
  },
  {
   "cell_type": "code",
   "execution_count": null,
   "metadata": {
    "collapsed": true
   },
   "outputs": [],
   "source": []
  }
 ],
 "metadata": {
  "anaconda-cloud": {},
  "kernelspec": {
   "display_name": "Python 3",
   "language": "python",
   "name": "python3"
  },
  "language_info": {
   "codemirror_mode": {
    "name": "ipython",
    "version": 3
   },
   "file_extension": ".py",
   "mimetype": "text/x-python",
   "name": "python",
   "nbconvert_exporter": "python",
   "pygments_lexer": "ipython3",
   "version": "3.6.3"
  }
 },
 "nbformat": 4,
 "nbformat_minor": 1
}
