{
 "cells": [
  {
   "cell_type": "code",
   "execution_count": 1,
   "metadata": {},
   "outputs": [
    {
     "name": "stdout",
     "output_type": "stream",
     "text": [
      "Shape of dataset is 671.0 * 163949.0\n",
      "Datasets are written successfully!\n"
     ]
    }
   ],
   "source": [
    "import numpy as np\n",
    "from collections import defaultdict\n",
    "\n",
    "# Load data\n",
    "dataset = np.genfromtxt('ratings.csv', delimiter=',', skip_header=1, usecols=(0,1,2))\n",
    "row, col, data = dataset[:, 0], dataset[:, 1], dataset[:, 2]\n",
    "rows, cols = max(row), max(col)\n",
    "print('Shape of dataset is {} * {}'.format(rows, cols))\n",
    "\n",
    "# Trim data\n",
    "collection = defaultdict(list)\n",
    "for i in range(len(col)):\n",
    "    collection[col[i]].append((row[i], data[i]))\n",
    "pop, unpop, var, binary = [], [], [], [[], [], [], []]\n",
    "thresholds = [2.5, 3, 3.5, 4]\n",
    "for c, v in collection.items():\n",
    "    variance = np.var(list(map(lambda x:x[1], v)))\n",
    "    for r, d in v:\n",
    "        for i, threshold in enumerate(thresholds):\n",
    "            binary[i].append([r, c, int(d >= threshold)])\n",
    "        if len(v) > 2:\n",
    "            pop.append([r, c, d])\n",
    "        else:\n",
    "            unpop.append([r, c, d])\n",
    "        if len(v) >= 5 and variance >= 2:\n",
    "            var.append([r, c, d])\n",
    "\n",
    "# Save data\n",
    "np.savetxt('popular.csv', pop, fmt=['%d', '%d', '%.1f'], delimiter=',', header='userId,movieId,rating')\n",
    "np.savetxt('unpopular.csv', unpop, fmt=['%d', '%d', '%.1f'], delimiter=',', header='userId,movieId,rating')\n",
    "np.savetxt('variance.csv', var, fmt=['%d', '%d', '%.1f'], delimiter=',', header='userId,movieId,rating')\n",
    "for i, threshold in enumerate(thresholds):\n",
    "    np.savetxt('bin'+str(threshold)+'.csv', binary[i], fmt=['%d', '%d', '%d'], delimiter=',', header='userId,movieId,rating')\n",
    "print('Datasets are written successfully!')"
   ]
  },
  {
   "cell_type": "code",
   "execution_count": null,
   "metadata": {
    "collapsed": true
   },
   "outputs": [],
   "source": []
  }
 ],
 "metadata": {
  "kernelspec": {
   "display_name": "Python 3",
   "language": "python",
   "name": "python3"
  },
  "language_info": {
   "codemirror_mode": {
    "name": "ipython",
    "version": 3
   },
   "file_extension": ".py",
   "mimetype": "text/x-python",
   "name": "python",
   "nbconvert_exporter": "python",
   "pygments_lexer": "ipython3",
   "version": "3.6.3"
  }
 },
 "nbformat": 4,
 "nbformat_minor": 2
}
