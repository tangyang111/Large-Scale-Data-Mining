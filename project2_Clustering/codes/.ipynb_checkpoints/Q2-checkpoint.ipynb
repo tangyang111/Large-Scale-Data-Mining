{
 "cells": [
  {
   "cell_type": "code",
   "execution_count": 6,
   "metadata": {},
   "outputs": [
    {
     "name": "stdout",
     "output_type": "stream",
     "text": [
      "contingency table:\n",
      "[[3951   28]\n",
      " [1354 2549]]\n"
     ]
    },
    {
     "data": {
      "image/png": "[encoded data removed]",
      "text/plain": [
       "<matplotlib.figure.Figure at 0x1a43430e50>"
      ]
     },
     "metadata": {},
     "output_type": "display_data"
    },
    {
     "name": "stdout",
     "output_type": "stream",
     "text": [
      "\n",
      "Homogeneity: 0.4201453416646634\n",
      "Completeness: 0.46076736218230174\n",
      "V-measure: 0.4395197389403066\n",
      "Adjusted Rand Score: 0.4215552671652806\n",
      "Adjusted Mutual Info Score: 0.42009225397441324\n"
     ]
    }
   ],
   "source": [
    "from sklearn.datasets import fetch_20newsgroups\n",
    "from sklearn.feature_extraction.text import TfidfVectorizer\n",
    "import re\n",
    "from sklearn.cluster import KMeans\n",
    "from sklearn import metrics\n",
    "from sklearn.metrics import confusion_matrix\n",
    "import itertools\n",
    "import numpy as np\n",
    "import matplotlib.pyplot as plt\n",
    "\n",
    "# fetch original data\n",
    "comp_tech_subclasses = ['comp.graphics', 'comp.os.ms-windows.misc', 'comp.sys.ibm.pc.hardware', 'comp.sys.mac.hardware']             \n",
    "rec_act_subclasses = ['rec.autos', 'rec.motorcycles', 'rec.sport.baseball', 'rec.sport.hockey']\n",
    "dataset = fetch_20newsgroups(subset='all', categories=comp_tech_subclasses+rec_act_subclasses, shuffle=True, random_state=42, remove=('headers', 'footers', 'quotes'))\n",
    "\n",
    "# seperate all data into two classes\n",
    "labels = [1]*len(dataset.data)\n",
    "for i in range(len(dataset.data)):\n",
    "    if dataset.target[i] > 3:\n",
    "        labels[i] = 0\n",
    "\n",
    "# trim data\n",
    "def trim_data(data_list):\n",
    "    for i in range(len(data_list)):\n",
    "        temp = re.findall('[a-zA-Z]+', data_list[i])\n",
    "        ans = []\n",
    "        for j in range(len(temp)):\n",
    "            if not temp[j].isdigit():\n",
    "                ans.append(temp[j])           \n",
    "        data_list[i] = \" \".join(ans)\n",
    "        \n",
    "trim_data(dataset.data)\n",
    "\n",
    "# generate TF-IDF matrix\n",
    "vectorizer = TfidfVectorizer(min_df=3, stop_words='english', use_idf=True)\n",
    "X = vectorizer.fit_transform(dataset.data)\n",
    "\n",
    "# K-Means Clustering\n",
    "km = KMeans(n_clusters=2)\n",
    "km.fit(X)\n",
    "\n",
    "# transform confusion matrix to diagonal as much as possible (only for 2 * 2 sized confusion)\n",
    "def to_diagonal(confusion):\n",
    "    maxColIndices = []\n",
    "    copy = []\n",
    "    for row in range(len(confusion)):\n",
    "        curRow = confusion[row]\n",
    "        index = 0\n",
    "        value = curRow[0]\n",
    "        ro = []\n",
    "        for col in range(len(curRow)):\n",
    "            ro.append(curRow[col])\n",
    "            if curRow[col] > value:\n",
    "                index = col\n",
    "                value = curRow[col]\n",
    "        maxColIndices.append(index)\n",
    "        copy.append(ro)\n",
    "    res = []\n",
    "    for i in range(len(confusion)):\n",
    "        res.insert(maxColIndices[i], copy[i])\n",
    "    res = np.array(res)\n",
    "    return res\n",
    "\n",
    "# contingency table (confusion matrix)\n",
    "actual_class_names = ['Class 1', 'Class 2']\n",
    "cluster_class_names = ['Cluster 1', 'Cluster 2']\n",
    "def plot_contingency_table(cm, title='Contingency table', cmap=plt.cm.YlOrBr):\n",
    "    plt.imshow(cm, interpolation='nearest', cmap=cmap)\n",
    "    plt.title(title, fontsize=16)\n",
    "    plt.colorbar()\n",
    "    tick_marks = np.arange(len(actual_class_names))\n",
    "    plt.xticks(tick_marks, actual_class_names)\n",
    "    plt.yticks(tick_marks, cluster_class_names)\n",
    "\n",
    "    thresh = cm.max() / 2.\n",
    "    for i, j in itertools.product(range(cm.shape[0]), range(cm.shape[1])):\n",
    "        plt.text(j, i, cm[i, j],\n",
    "                 horizontalalignment=\"center\",\n",
    "                 color=\"white\" if cm[i, j] > thresh else \"black\")\n",
    "\n",
    "    plt.tight_layout()\n",
    "    plt.ylabel('Cluster Class', fontsize=12)\n",
    "    plt.xlabel('Actual Class', fontsize=12)\n",
    "\n",
    "# Print results\n",
    "confusion = metrics.confusion_matrix(labels, km.labels_)\n",
    "contingency = to_diagonal(confusion)\n",
    "\n",
    "print 'contingency table:'\n",
    "print contingency\n",
    "# Plot non-normalized contingency table\n",
    "plt.figure()\n",
    "title = 'Contingency table (original)'\n",
    "plot_contingency_table(contingency, title=title)\n",
    "plt.show()\n",
    "print\n",
    "print 'Homogeneity:', metrics.homogeneity_score(labels, km.labels_)\n",
    "print 'Completeness:', metrics.completeness_score(labels, km.labels_)\n",
    "print 'V-measure:', metrics.v_measure_score(labels, km.labels_)\n",
    "print 'Adjusted Rand Score:', metrics.adjusted_rand_score(labels, km.labels_)\n",
    "print 'Adjusted Mutual Info Score:', metrics.adjusted_mutual_info_score(labels, km.labels_)"
   ]
  },
  {
   "cell_type": "code",
   "execution_count": null,
   "metadata": {},
   "outputs": [],
   "source": []
  }
 ],
 "metadata": {
  "kernelspec": {
   "display_name": "Python 2",
   "language": "python",
   "name": "python2"
  },
  "language_info": {
   "codemirror_mode": {
    "name": "ipython",
    "version": 2
   },
   "file_extension": ".py",
   "mimetype": "text/x-python",
   "name": "python",
   "nbconvert_exporter": "python",
   "pygments_lexer": "ipython2",
   "version": "2.7.14"
  }
 },
 "nbformat": 4,
 "nbformat_minor": 2
}
