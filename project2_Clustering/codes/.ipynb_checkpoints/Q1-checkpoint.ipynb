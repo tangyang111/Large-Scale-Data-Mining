{
 "cells": [
  {
   "cell_type": "code",
   "execution_count": 1,
   "metadata": {},
   "outputs": [
    {
     "name": "stdout",
     "output_type": "stream",
     "text": [
      "(7882, 15464)\n"
     ]
    }
   ],
   "source": [
    "from sklearn.datasets import fetch_20newsgroups\n",
    "from sklearn.feature_extraction.text import TfidfVectorizer\n",
    "import re\n",
    "\n",
    "# fetch original data\n",
    "comp_tech_subclasses = ['comp.graphics', 'comp.os.ms-windows.misc', 'comp.sys.ibm.pc.hardware', 'comp.sys.mac.hardware']             \n",
    "rec_act_subclasses = ['rec.autos', 'rec.motorcycles', 'rec.sport.baseball', 'rec.sport.hockey']\n",
    "dataset = fetch_20newsgroups(subset='all', categories=comp_tech_subclasses+rec_act_subclasses, shuffle=True, random_state=42, remove=('headers', 'footers', 'quotes'))\n",
    "\n",
    "# seperate all data into two classes\n",
    "labels = [1]*len(dataset.data)\n",
    "for i in range(len(dataset.data)):\n",
    "    if dataset.target[i] > 3:\n",
    "        labels[i] = 0\n",
    "\n",
    "# trim data\n",
    "def trim_data(data_list):\n",
    "    for i in range(len(data_list)):\n",
    "        temp = re.findall('[a-zA-Z]+', data_list[i])\n",
    "        ans = []\n",
    "        for j in range(len(temp)):\n",
    "            if not temp[j].isdigit():\n",
    "                ans.append(temp[j])           \n",
    "        data_list[i] = \" \".join(ans)\n",
    "        \n",
    "trim_data(dataset.data)\n",
    "\n",
    "# generate TF-IDF matrix\n",
    "vectorizer = TfidfVectorizer(min_df=3, stop_words='english', use_idf=True)\n",
    "X = vectorizer.fit_transform(dataset.data)\n",
    "print X.shape"
   ]
  },
  {
   "cell_type": "code",
   "execution_count": null,
   "metadata": {},
   "outputs": [],
   "source": []
  }
 ],
 "metadata": {
  "kernelspec": {
   "display_name": "Python 2",
   "language": "python",
   "name": "python2"
  },
  "language_info": {
   "codemirror_mode": {
    "name": "ipython",
    "version": 2
   },
   "file_extension": ".py",
   "mimetype": "text/x-python",
   "name": "python",
   "nbconvert_exporter": "python",
   "pygments_lexer": "ipython2",
   "version": "2.7.14"
  }
 },
 "nbformat": 4,
 "nbformat_minor": 2
}
