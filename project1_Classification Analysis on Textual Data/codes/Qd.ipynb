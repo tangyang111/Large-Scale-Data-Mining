{
 "cells": [
  {
   "cell_type": "code",
   "execution_count": 2,
   "metadata": {},
   "outputs": [
    {
     "name": "stdout",
     "output_type": "stream",
     "text": [
      "LSI method:\n",
      "(4732, 50)\n",
      "\n",
      "NMF method:\n",
      "(4732, 50)\n",
      "\n"
     ]
    }
   ],
   "source": [
    "from sklearn.datasets import fetch_20newsgroups\n",
    "from nltk.stem.snowball import SnowballStemmer\n",
    "from sklearn.feature_extraction.text import CountVectorizer\n",
    "from sklearn.feature_extraction.text import TfidfTransformer\n",
    "from sklearn.decomposition import TruncatedSVD\n",
    "from sklearn.decomposition import NMF\n",
    "import re\n",
    "\n",
    "# define two classes\n",
    "computer_technology_class = ['comp.graphics', 'comp.os.ms-windows.misc', 'comp.sys.ibm.pc.hardware', 'comp.sys.mac.hardware']\n",
    "recreational_activity_class = ['rec.autos', 'rec.motorcycles', 'rec.sport.baseball', 'rec.sport.hockey']\n",
    "training_data = fetch_20newsgroups(subset='train', categories=computer_technology_class+recreational_activity_class, shuffle=True, random_state=42, remove=('headers', 'footers', 'quotes'))\n",
    "stemmer = SnowballStemmer(\"english\")\n",
    "\n",
    "# process data\n",
    "def trim_and_stem(data_list):\n",
    "    for i in range(len(data_list)):\n",
    "        temp = re.findall('[a-zA-Z]+', data_list[i])\n",
    "        ans = []\n",
    "        for j in range(len(temp)):\n",
    "            if not temp[j].isdigit():\n",
    "                ans.append(stemmer.stem(temp[j])) # stem() turned words into lowercase            \n",
    "        data_list[i] = \" \".join(ans)\n",
    "trim_and_stem(training_data.data)\n",
    "\n",
    "# generate TFxIDF\n",
    "count_vect = CountVectorizer(min_df=2, stop_words ='english')\n",
    "X_counts = count_vect.fit_transform(training_data.data)\n",
    "tfidf_transformer = TfidfTransformer()\n",
    "X_tfidf = tfidf_transformer.fit_transform(X_counts)\n",
    "\n",
    "# using LSI\n",
    "svd = TruncatedSVD(n_components = 50, n_iter = 10,random_state = 42)\n",
    "svd_res = svd.fit_transform(X_tfidf)\n",
    "print 'LSI method:'\n",
    "print svd_res.shape\n",
    "print ''\n",
    "\n",
    "# using NMF\n",
    "nmf = NMF(n_components=50, init='random', random_state=0)\n",
    "nmf_res = nmf.fit_transform(X_tfidf)\n",
    "print 'NMF method:'\n",
    "print nmf_res.shape\n",
    "print ''"
   ]
  },
  {
   "cell_type": "code",
   "execution_count": null,
   "metadata": {},
   "outputs": [],
   "source": []
  }
 ],
 "metadata": {
  "kernelspec": {
   "display_name": "Python 2",
   "language": "python",
   "name": "python2"
  },
  "language_info": {
   "codemirror_mode": {
    "name": "ipython",
    "version": 2
   },
   "file_extension": ".py",
   "mimetype": "text/x-python",
   "name": "python",
   "nbconvert_exporter": "python",
   "pygments_lexer": "ipython2",
   "version": "2.7.14"
  }
 },
 "nbformat": 4,
 "nbformat_minor": 2
}
