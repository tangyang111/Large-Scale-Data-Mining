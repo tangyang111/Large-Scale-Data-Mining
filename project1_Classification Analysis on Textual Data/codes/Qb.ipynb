{
 "cells": [
  {
   "cell_type": "code",
   "execution_count": 20,
   "metadata": {},
   "outputs": [
    {
     "name": "stdout",
     "output_type": "stream",
     "text": [
      "Min Document Frequency: 2\n",
      "Extracted Number of Terms: 17169\n",
      "\n",
      "Min Document Frequency: 5\n",
      "Extracted Number of Terms: 7692\n",
      "\n",
      "Min Document Frequency: 8\n",
      "Extracted Number of Terms: 5595\n",
      "\n",
      "Min Document Frequency: 11\n",
      "Extracted Number of Terms: 4484\n",
      "\n",
      "Min Document Frequency: 14\n",
      "Extracted Number of Terms: 3706\n",
      "\n",
      "Min Document Frequency: 17\n",
      "Extracted Number of Terms: 3205\n",
      "\n",
      "Min Document Frequency: 20\n",
      "Extracted Number of Terms: 2815\n",
      "\n",
      "Min Document Frequency: 23\n",
      "Extracted Number of Terms: 2546\n",
      "\n"
     ]
    },
    {
     "data": {
      "image/png": "[encoded data removed]",
      "text/plain": [
       "<matplotlib.figure.Figure at 0x1a1600ff90>"
      ]
     },
     "metadata": {},
     "output_type": "display_data"
    }
   ],
   "source": [
    "from sklearn.datasets import fetch_20newsgroups\n",
    "from nltk.stem.snowball import SnowballStemmer\n",
    "from sklearn.feature_extraction.text import CountVectorizer\n",
    "from sklearn.feature_extraction.text import TfidfTransformer\n",
    "import re \n",
    "import matplotlib.pyplot as plt\n",
    "\n",
    "# define two classes\n",
    "computer_technology_class = ['comp.graphics', 'comp.os.ms-windows.misc', 'comp.sys.ibm.pc.hardware', 'comp.sys.mac.hardware']\n",
    "recreational_activity_class = ['rec.autos', 'rec.motorcycles', 'rec.sport.baseball', 'rec.sport.hockey']\n",
    "\n",
    "# load data from training subsets and test subsets respectively, and remove headers, footers and quotes\n",
    "comp_tech_train = fetch_20newsgroups(subset='train', categories=computer_technology_class, shuffle=True, random_state=42, remove=('headers', 'footers', 'quotes'))\n",
    "comp_tech_test = fetch_20newsgroups(subset='test', categories=computer_technology_class, shuffle=True, random_state=42, remove=('headers', 'footers', 'quotes'))\n",
    "rec_act_train = fetch_20newsgroups(subset='train', categories=recreational_activity_class, shuffle=True, random_state=42, remove=('headers', 'footers', 'quotes'))\n",
    "rec_act_test = fetch_20newsgroups(subset='test', categories=recreational_activity_class, shuffle=True, random_state=42, remove=('headers', 'footers', 'quotes'))\n",
    "\n",
    "# for stemmed version words later\n",
    "stemmer = SnowballStemmer(\"english\")\n",
    "\n",
    "# remove punctuations and use stemmed version words\n",
    "def trim_and_stem(data_list):\n",
    "    for i in range(len(data_list)):\n",
    "        temp = re.findall('[a-zA-Z]+', data_list[i])\n",
    "        ans = []\n",
    "        for j in range(len(temp)):\n",
    "            if not temp[j].isdigit():\n",
    "                ans.append(stemmer.stem(temp[j])) # stem() turned words into lowercase            \n",
    "        data_list[i] = \" \".join(ans)\n",
    "\n",
    "trim_and_stem(comp_tech_train.data)\n",
    "trim_and_stem(comp_tech_test.data)\n",
    "trim_and_stem(rec_act_train.data)\n",
    "trim_and_stem(rec_act_test.data)\n",
    "\n",
    "# exclude stop words and create TFxIDF\n",
    "index = []\n",
    "values = []\n",
    "for i in range(2,25,3):\n",
    "    index.append(i)\n",
    "    count_vect = CountVectorizer(min_df=i, stop_words ='english')\n",
    "    X_counts = count_vect.fit_transform(comp_tech_train.data+comp_tech_test.data+rec_act_train.data+rec_act_test.data)\n",
    "    tfidf_transformer = TfidfTransformer()\n",
    "    X_tfidf = tfidf_transformer.fit_transform(X_counts)\n",
    "    values.append(X_tfidf.shape[1])\n",
    "    print 'Min Document Frequency: ' + str(i) + '\\n',\n",
    "    print 'Extracted Number of Terms: ' + str(X_tfidf.shape[1])\n",
    "    print ''\n",
    "\n",
    "# plot histogram\n",
    "fig, ax = plt.subplots()\n",
    "color = ['b', 'g', 'r', 'c', 'm', 'y', 'k', 'pink']\n",
    "ax.set_xticks([i+0.75 for i in index])\n",
    "ax.set_xticklabels(index, fontsize = 12)\n",
    "rects = plt.bar(index, values, 1.5, align='edge', alpha = 0.8, color = color)\n",
    "plt.xlabel('Min Document Frequency', fontsize = 14)\n",
    "plt.ylabel('Number of Terms', fontsize = 14)\n",
    "plt.title('Extracted Number of Terms', fontsize = 18)\n",
    "plt.axis([0.5,26,0,20000])\n",
    "for rect in rects:\n",
    "    height = rect.get_height()\n",
    "    ax.text(rect.get_x() + rect.get_width()/2., 1*height, '%d' % int(height), ha='center', va='bottom')\n",
    "plt.show()\n"
   ]
  },
  {
   "cell_type": "code",
   "execution_count": null,
   "metadata": {},
   "outputs": [],
   "source": []
  }
 ],
 "metadata": {
  "kernelspec": {
   "display_name": "Python 2",
   "language": "python",
   "name": "python2"
  },
  "language_info": {
   "codemirror_mode": {
    "name": "ipython",
    "version": 2
   },
   "file_extension": ".py",
   "mimetype": "text/x-python",
   "name": "python",
   "nbconvert_exporter": "python",
   "pygments_lexer": "ipython2",
   "version": "2.7.14"
  }
 },
 "nbformat": 4,
 "nbformat_minor": 2
}
